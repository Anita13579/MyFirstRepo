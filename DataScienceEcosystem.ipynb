{
 "cells": [
  {
   "cell_type": "markdown",
   "id": "a23b468f-dee8-4949-bb50-abcc0f436ab7",
   "metadata": {},
   "source": [
    "# Data Science Tools and Ecosystem"
   ]
  },
  {
   "cell_type": "markdown",
   "id": "b01dd0a9-064c-460f-af40-75ae3295c8c5",
   "metadata": {},
   "source": [
    "In this notebook, Data Science Tools and Ecosystems are summarized."
   ]
  },
  {
   "cell_type": "markdown",
   "id": "72d714a1-afa4-4bbf-89d1-aac4d020aa0f",
   "metadata": {},
   "source": [
    "**Objectives:**\n",
    "- List popular languages in Data Science\n",
    "- List popular libraries used by Data Scientists\n",
    "- List popular open-source development environments\n",
    "- Evaluate basic arithmetic operations in Python"
   ]
  },
  {
   "cell_type": "markdown",
   "id": "d4a5ec2a-d485-4a16-81b1-309cb11a36a1",
   "metadata": {},
   "source": [
    "Some of the popular languages that Data Scientists use are:\n",
    "\n",
    "1. Python\n",
    "2. R\n",
    "3. Java\n",
    "4. Scala\n",
    "5. C++\n",
    "6. JavaScript\n",
    "7. Julia"
   ]
  },
  {
   "cell_type": "markdown",
   "id": "64f4b371-7231-470b-946e-3f8628ae020f",
   "metadata": {},
   "source": [
    "Some of the libraries commonly used by Data Scientists include:\n",
    "\n",
    "1. Pandas\n",
    "2. NumPy\n",
    "3. Matplotlib\n",
    "4. TensorFlow\n",
    "5. PyTorch\n",
    "6. ggplot\n",
    "7. caret"
   ]
  },
  {
   "cell_type": "markdown",
   "id": "e2aa71c4-c852-4a50-a4a2-8423468c3f64",
   "metadata": {},
   "source": [
    "Some of the most popular open-source development environments are:\n",
    "\n",
    "| Data Science Tools |\n",
    "| --- |\n",
    "| Jupyter |\n",
    "| RStudio |\n",
    "| Spyder |"
   ]
  },
  {
   "cell_type": "markdown",
   "id": "7121a837-9bff-4ac4-81d4-9542804c19b6",
   "metadata": {},
   "source": [
    "### Examples of evaluating arithmetic expressions in Python"
   ]
  },
  {
   "cell_type": "code",
   "execution_count": 11,
   "id": "b4ae623c-06a1-47e3-a285-973774c4c7f9",
   "metadata": {},
   "outputs": [
    {
     "data": {
      "text/plain": [
       "17"
      ]
     },
     "execution_count": 11,
     "metadata": {},
     "output_type": "execute_result"
    }
   ],
   "source": [
    "# A simple arithmetic expression to multiply and add integers\n",
    "\n",
    "(3*4)+5"
   ]
  },
  {
   "cell_type": "code",
   "execution_count": 23,
   "id": "8728307d-72a0-4f50-8c31-9ff8069cea00",
   "metadata": {},
   "outputs": [
    {
     "name": "stdout",
     "output_type": "stream",
     "text": [
      "Decimal value: 3.3333333333333335\n",
      "Full value: 3\n"
     ]
    }
   ],
   "source": [
    "# Converting minutes to hours\n",
    "\n",
    "minutes = 200\n",
    "\n",
    "hours_float = minutes/60\n",
    "print(\"Decimal value:\", hours_float)\n",
    "\n",
    "hours_int = minutes//60\n",
    "print(\"Full value:\", hours_int)"
   ]
  },
  {
   "cell_type": "code",
   "execution_count": null,
   "id": "2ec122ef-3137-4a4f-b437-5502f593cb6d",
   "metadata": {},
   "outputs": [],
   "source": []
  }
 ],
 "metadata": {
  "kernelspec": {
   "display_name": "Python [conda env:base] *",
   "language": "python",
   "name": "conda-base-py"
  },
  "language_info": {
   "codemirror_mode": {
    "name": "ipython",
    "version": 3
   },
   "file_extension": ".py",
   "mimetype": "text/x-python",
   "name": "python",
   "nbconvert_exporter": "python",
   "pygments_lexer": "ipython3",
   "version": "3.12.7"
  }
 },
 "nbformat": 4,
 "nbformat_minor": 5
}
